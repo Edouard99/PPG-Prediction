{
 "cells": [
  {
   "cell_type": "markdown",
   "metadata": {},
   "source": [
    "# Preparation"
   ]
  },
  {
   "cell_type": "code",
   "execution_count": 1,
   "metadata": {},
   "outputs": [],
   "source": [
    "import random\n",
    "from numpy import genfromtxt\n",
    "import pandas as pd\n",
    "import time\n",
    "import numpy as np\n",
    "import json\n",
    "import scipy\n",
    "from scipy import interpolate\n",
    "import h5py\n",
    "import matplotlib.pyplot as plt"
   ]
  },
  {
   "cell_type": "code",
   "execution_count": 2,
   "metadata": {},
   "outputs": [],
   "source": [
    "from scipy.signal import butter, lfilter\n",
    "from scipy.signal import freqz\n",
    "from tqdm import tqdm\n",
    "\n",
    "def open_file(path):\n",
    "    df = pd.read_pickle(path)\n",
    "    return df\n",
    "def normalization(signal):\n",
    "    if (np.max(signal)-np.min(signal))!=0:\n",
    "        signal=(signal-np.min(signal))/(np.max(signal)-np.min(signal))\n",
    "    signal=(signal-np.mean(signal))\n",
    "    return signal\n",
    "\n",
    "def upsample_acc(signal):\n",
    "    y=signal\n",
    "    x=np.arange(0,2*len(y),2)\n",
    "    f= scipy.interpolate.interp1d(x,y,fill_value='extrapolate')\n",
    "    x_new=np.arange(0,2*len(y))\n",
    "    ynew=f(x_new)\n",
    "    #ynew=pad(ynew)\n",
    "    return(ynew)\n",
    "\n",
    "def precompute_template_64(template):\n",
    "    L=[None]\n",
    "    print(\"computing template set... \\n\")\n",
    "    for n in tqdm(range(1,5*64)):\n",
    "        y=template\n",
    "        x=np.arange(0,len(template))\n",
    "        f= scipy.interpolate.interp1d(x,y,fill_value='extrapolate')\n",
    "        x_new=np.linspace(0,len(template),n,endpoint=False)\n",
    "        ynew=f(x_new)\n",
    "        L.append(ynew)\n",
    "    return L\n",
    "\n",
    "def create_fakeppg(template,peak64):\n",
    "    rpeak_t=peak64\n",
    "    len_true_sign=len(df['signal']['wrist']['BVP'])\n",
    "    out=np.array([])\n",
    "    L=precompute_template_64(template)\n",
    "    print(\"computing ppg... \\n\")\n",
    "    discard=0\n",
    "    for n in tqdm(range(len(rpeak_t)-1)):\n",
    "        interval=int(rpeak_t[n+1]-rpeak_t[n])\n",
    "        if interval!=0:\n",
    "            ynew=L[interval]\n",
    "            out=np.concatenate([out,ynew])\n",
    "            if interval!=len(ynew):\n",
    "                print(n)\n",
    "        else:\n",
    "            discard+=1\n",
    "    print(discard)\n",
    "    return rpeak_t,out\n",
    "\n",
    "\n",
    "def butter_bandpass(lowcut, highcut, fs, order=5):\n",
    "    return butter(order, [lowcut, highcut], fs=fs, btype='band')\n",
    "\n",
    "def butter_bandpass_filter(data, lowcut, highcut, fs, order=5):\n",
    "    b, a = butter_bandpass(lowcut, highcut, fs, order=order)\n",
    "    y = lfilter(b, a, data)\n",
    "    return y\n",
    "    \n",
    "def get_data_from_file(path,offset,final_template):\n",
    "    df=open_file(path)\n",
    "    List_data=[]\n",
    "    List_label=[]\n",
    "    List_hr=[]\n",
    "    List_peaks=[]\n",
    "    lowcut = 0.5\n",
    "    highcut = 5\n",
    "    sync_bvp=df['signal']['wrist']['BVP'][offset:,0]\n",
    "    sync_peak=df['rpeaks']\n",
    "    #sync_ecg=df['signal']['chest']['ECG'][sync_peak[0]:,0]\n",
    "    first_peak_64index=int(np.round((sync_peak[0]/700)*64,0))\n",
    "    sync_bvp_cut=sync_bvp[first_peak_64index:]\n",
    "    sync_peak=sync_peak-sync_peak[0]\n",
    "    sync_peak64=np.round((sync_peak/700)*64,0)\n",
    "    sign_peak64=np.zeros(int(sync_peak64[-1]+1))\n",
    "    peaktest,fakeppg_64hz=create_fakeppg(final_template,sync_peak64)\n",
    "    for peak in sync_peak64:\n",
    "        sign_peak64[int(peak)]=1\n",
    "    sign_peak64=sign_peak64[:len(sync_bvp_cut)]\n",
    "    sync_acc0_cut=upsample_acc(df['signal']['wrist']['ACC'][:,0])[offset:][first_peak_64index:]\n",
    "    sync_acc1_cut=upsample_acc(df['signal']['wrist']['ACC'][:,1])[offset:][first_peak_64index:]\n",
    "    sync_acc2_cut=upsample_acc(df['signal']['wrist']['ACC'][:,2])[offset:][first_peak_64index:]\n",
    "    discard=0\n",
    "    for k in tqdm(range(0,len(sync_bvp_cut)-5*64,64)):\n",
    "        peak_list=np.where(sign_peak64[k:k+5*64]==1)[0]\n",
    "        bvp_window=normalization(butter_bandpass_filter(sync_bvp_cut[k:k+5*64], lowcut, highcut, 64, order=1))\n",
    "        acc0_window=normalization(butter_bandpass_filter(sync_acc0_cut[k:k+5*64], lowcut, highcut, 64, order=1))\n",
    "        acc1_window=normalization(butter_bandpass_filter(sync_acc1_cut[k:k+5*64], lowcut, highcut, 64, order=1))\n",
    "        acc2_window=normalization(butter_bandpass_filter(sync_acc2_cut[k:k+5*64], lowcut, highcut, 64, order=1))\n",
    "        clean_ppg=normalization(butter_bandpass_filter(fakeppg_64hz[k:k+5*64], lowcut, highcut, 64, order=1))\n",
    "        if len(peak_list)>=2:\n",
    "            hr=np.mean([peak_list[n+1]-peak_list[n] for n in range(0,len(peak_list)-1)])\n",
    "            List_data.append(np.array([bvp_window,acc0_window,acc1_window,acc2_window]))\n",
    "            List_label.append(clean_ppg)\n",
    "            List_hr.append(hr)\n",
    "            List_peaks.append(peak_list)\n",
    "        else :\n",
    "            discard+=1\n",
    "    print(discard)\n",
    "    dic={}\n",
    "    dic['label']=np.array(List_label)\n",
    "    dic['data']=np.array(List_data)\n",
    "    dic['hr']=np.array(List_hr)\n",
    "    #dic['peaks']=List_peaks\n",
    "    return dic\n",
    "\n",
    "def create_ds():\n",
    "    liste=[\"S{}\".format(i,i) for i in range(1,16)]\n",
    "    Offset_list=[120,120,118,130,95,107,118,123,54,116,120,117,117,118,120]\n",
    "    h5f = h5py.File('data_PPG_Dalia_denoise_ppg_filtered.h5', 'w')\n",
    "    try :\n",
    "        for name in liste:\n",
    "            print(name)\n",
    "            path=\"./PPG_FieldStudy/{}/{}.pkl\".format(name,name)\n",
    "            dic=get_data_from_file(path,Offset_list[int(name[1])-1],final_template)\n",
    "            print(\"passed\")\n",
    "            h5f.create_dataset(\"data_{}\".format(name), data=dic['data'])\n",
    "            h5f.create_dataset(\"label_{}\".format(name), data=dic['label'])\n",
    "            h5f.create_dataset(\"hr_{}\".format(name), data=dic['hr'])\n",
    "            #h5f.create_dataset(\"peaks_{}\".format(name), data=dic['peaks'])\n",
    "            print(\"passed h5\")\n",
    "    except : print(\"erreur\")\n",
    "    h5f.close()"
   ]
  },
  {
   "cell_type": "code",
   "execution_count": 1,
   "metadata": {},
   "outputs": [],
   "source": [
    "def generate_template():\n",
    "    df=open_file(str(\"./PPG_FieldStudy/S1/S1.pkl\"))\n",
    "    offset=120\n",
    "    sync_bvp=df['signal']['wrist']['BVP'][offset:,0]\n",
    "    sync_peak=df['rpeaks']\n",
    "    sync_peak=sync_peak-sync_peak[0]\n",
    "    sync_peak64=np.round((sync_peak/700)*64,0)\n",
    "    template_0=sync_bvp[int(sync_peak64[0]):int(sync_peak64[1])]\n",
    "    template_multi=np.concatenate([template_0,template_0,template_0])[:]\n",
    "    kernel_size = 4\n",
    "    kernel = np.ones(kernel_size) / kernel_size\n",
    "    data_convolved = np.convolve(template_multi, kernel, mode='same')\n",
    "    final_template=data_convolved[112:112+86]\n",
    "    plt.plot(final_template)\n",
    "    plt.show()"
   ]
  },
  {
   "cell_type": "code",
   "execution_count": 3,
   "metadata": {},
   "outputs": [],
   "source": [
    "df=open_file(str(\"./PPG_FieldStudy/S1/S1.pkl\"))\n",
    "offset=120\n",
    "sync_bvp=df['signal']['wrist']['BVP'][offset:,0]\n",
    "sync_peak=df['rpeaks']\n",
    "sync_ecg=df['signal']['chest']['ECG'][sync_peak[0]:,0]\n",
    "first_peak_64index=int(np.round((sync_peak[0]/700)*64,0))\n",
    "sync_bvp_cut=sync_bvp[first_peak_64index:]\n",
    "sync_peak=sync_peak-sync_peak[0]\n",
    "sync_peak64=np.round((sync_peak/700)*64,0)\n",
    "sync_acc0_cut=upsample_acc(df['signal']['wrist']['ACC'][:,0])[offset:][first_peak_64index:]\n",
    "sync_acc1_cut=upsample_acc(df['signal']['wrist']['ACC'][:,1])[offset:][first_peak_64index:]\n",
    "sync_acc2_cut=upsample_acc(df['signal']['wrist']['ACC'][:,2])[offset:][first_peak_64index:]"
   ]
  },
  {
   "cell_type": "code",
   "execution_count": 4,
   "metadata": {},
   "outputs": [
    {
     "data": {
      "text/plain": [
       "[<matplotlib.lines.Line2D at 0x20be3ad9250>]"
      ]
     },
     "execution_count": 4,
     "metadata": {},
     "output_type": "execute_result"
    },
    {
     "data": {
      "image/png": "[encoded data removed]",
      "text/plain": [
       "<Figure size 432x288 with 1 Axes>"
      ]
     },
     "metadata": {
      "needs_background": "light"
     },
     "output_type": "display_data"
    }
   ],
   "source": [
    "template_0=sync_bvp[int(sync_peak64[0]):int(sync_peak64[1])]\n",
    "template_multi=np.concatenate([template_0,template_0,template_0])[:]\n",
    "plt.plot(template_0,alpha=0.5)\n",
    "plt.plot(template_multi,alpha=0.5)"
   ]
  },
  {
   "cell_type": "code",
   "execution_count": 5,
   "metadata": {},
   "outputs": [
    {
     "data": {
      "text/plain": [
       "[<matplotlib.lines.Line2D at 0x20ba0c3a340>]"
      ]
     },
     "execution_count": 5,
     "metadata": {},
     "output_type": "execute_result"
    },
    {
     "data": {
      "image/png": "[encoded data removed]",
      "text/plain": [
       "<Figure size 432x288 with 1 Axes>"
      ]
     },
     "metadata": {
      "needs_background": "light"
     },
     "output_type": "display_data"
    }
   ],
   "source": [
    "kernel_size = 4\n",
    "kernel = np.ones(kernel_size) / kernel_size\n",
    "data_convolved = np.convolve(template_multi, kernel, mode='same')\n",
    "final_template=data_convolved[112:112+86]\n",
    "plt.plot(data_convolved)"
   ]
  },
  {
   "cell_type": "code",
   "execution_count": 9,
   "metadata": {},
   "outputs": [
    {
     "data": {
      "text/plain": [
       "[<matplotlib.lines.Line2D at 0x21f309591c0>]"
      ]
     },
     "execution_count": 9,
     "metadata": {},
     "output_type": "execute_result"
    },
    {
     "data": {
      "image/png": "[encoded data removed]",
      "text/plain": [
       "<Figure size 432x288 with 1 Axes>"
      ]
     },
     "metadata": {
      "needs_background": "light"
     },
     "output_type": "display_data"
    }
   ],
   "source": [
    "plt.plot(final_template)"
   ]
  },
  {
   "cell_type": "markdown",
   "metadata": {},
   "source": [
    "# Sync"
   ]
  },
  {
   "cell_type": "code",
   "execution_count": 6,
   "metadata": {},
   "outputs": [
    {
     "name": "stdout",
     "output_type": "stream",
     "text": [
      "computing template set... \n",
      "\n"
     ]
    },
    {
     "name": "stderr",
     "output_type": "stream",
     "text": [
      "100%|██████████| 319/319 [00:00<00:00, 1226.84it/s]\n"
     ]
    },
    {
     "name": "stdout",
     "output_type": "stream",
     "text": [
      "computing ppg... \n",
      "\n"
     ]
    },
    {
     "name": "stderr",
     "output_type": "stream",
     "text": [
      " 27%|██▋       | 3107/11430 [00:01<00:03, 2279.37it/s] \n"
     ]
    },
    {
     "ename": "KeyboardInterrupt",
     "evalue": "",
     "output_type": "error",
     "traceback": [
      "\u001b[1;31m---------------------------------------------------------------------------\u001b[0m",
      "\u001b[1;31mKeyboardInterrupt\u001b[0m                         Traceback (most recent call last)",
      "\u001b[1;32m~\\AppData\\Local\\Temp\\ipykernel_11700\\754667496.py\u001b[0m in \u001b[0;36m<module>\u001b[1;34m\u001b[0m\n\u001b[0;32m     12\u001b[0m \u001b[0mpeaks_cut64\u001b[0m\u001b[1;33m=\u001b[0m\u001b[0mnp\u001b[0m\u001b[1;33m.\u001b[0m\u001b[0mround\u001b[0m\u001b[1;33m(\u001b[0m\u001b[1;33m(\u001b[0m\u001b[0mpeaks_cut\u001b[0m\u001b[1;33m/\u001b[0m\u001b[1;36m700\u001b[0m\u001b[1;33m)\u001b[0m\u001b[1;33m*\u001b[0m\u001b[1;36m64\u001b[0m\u001b[1;33m,\u001b[0m\u001b[1;36m0\u001b[0m\u001b[1;33m)\u001b[0m\u001b[1;33m\u001b[0m\u001b[1;33m\u001b[0m\u001b[0m\n\u001b[0;32m     13\u001b[0m \u001b[0msign_peak64\u001b[0m\u001b[1;33m=\u001b[0m\u001b[0mnp\u001b[0m\u001b[1;33m.\u001b[0m\u001b[0mzeros\u001b[0m\u001b[1;33m(\u001b[0m\u001b[0mint\u001b[0m\u001b[1;33m(\u001b[0m\u001b[0mpeaks_cut64\u001b[0m\u001b[1;33m[\u001b[0m\u001b[1;33m-\u001b[0m\u001b[1;36m1\u001b[0m\u001b[1;33m]\u001b[0m\u001b[1;33m+\u001b[0m\u001b[1;36m1\u001b[0m\u001b[1;33m)\u001b[0m\u001b[1;33m)\u001b[0m\u001b[1;33m\u001b[0m\u001b[1;33m\u001b[0m\u001b[0m\n\u001b[1;32m---> 14\u001b[1;33m \u001b[0mfakeppg_64hz\u001b[0m\u001b[1;33m=\u001b[0m\u001b[0mcreate_fakeppg\u001b[0m\u001b[1;33m(\u001b[0m\u001b[0mfinal_template\u001b[0m\u001b[1;33m,\u001b[0m\u001b[0mpeaks_cut64\u001b[0m\u001b[1;33m)\u001b[0m\u001b[1;33m\u001b[0m\u001b[1;33m\u001b[0m\u001b[0m\n\u001b[0m",
      "\u001b[1;32m~\\AppData\\Local\\Temp\\ipykernel_11700\\475171080.py\u001b[0m in \u001b[0;36mcreate_fakeppg\u001b[1;34m(template, peak64)\u001b[0m\n\u001b[0;32m     44\u001b[0m         \u001b[1;32mif\u001b[0m \u001b[0minterval\u001b[0m\u001b[1;33m!=\u001b[0m\u001b[1;36m0\u001b[0m\u001b[1;33m:\u001b[0m\u001b[1;33m\u001b[0m\u001b[1;33m\u001b[0m\u001b[0m\n\u001b[0;32m     45\u001b[0m             \u001b[0mynew\u001b[0m\u001b[1;33m=\u001b[0m\u001b[0mL\u001b[0m\u001b[1;33m[\u001b[0m\u001b[0minterval\u001b[0m\u001b[1;33m]\u001b[0m\u001b[1;33m\u001b[0m\u001b[1;33m\u001b[0m\u001b[0m\n\u001b[1;32m---> 46\u001b[1;33m             \u001b[0mout\u001b[0m\u001b[1;33m=\u001b[0m\u001b[0mnp\u001b[0m\u001b[1;33m.\u001b[0m\u001b[0mconcatenate\u001b[0m\u001b[1;33m(\u001b[0m\u001b[1;33m[\u001b[0m\u001b[0mout\u001b[0m\u001b[1;33m,\u001b[0m\u001b[0mynew\u001b[0m\u001b[1;33m]\u001b[0m\u001b[1;33m)\u001b[0m\u001b[1;33m\u001b[0m\u001b[1;33m\u001b[0m\u001b[0m\n\u001b[0m\u001b[0;32m     47\u001b[0m             \u001b[1;32mif\u001b[0m \u001b[0minterval\u001b[0m\u001b[1;33m!=\u001b[0m\u001b[0mlen\u001b[0m\u001b[1;33m(\u001b[0m\u001b[0mynew\u001b[0m\u001b[1;33m)\u001b[0m\u001b[1;33m:\u001b[0m\u001b[1;33m\u001b[0m\u001b[1;33m\u001b[0m\u001b[0m\n\u001b[0;32m     48\u001b[0m                 \u001b[0mprint\u001b[0m\u001b[1;33m(\u001b[0m\u001b[0mn\u001b[0m\u001b[1;33m)\u001b[0m\u001b[1;33m\u001b[0m\u001b[1;33m\u001b[0m\u001b[0m\n",
      "\u001b[1;32m<__array_function__ internals>\u001b[0m in \u001b[0;36mconcatenate\u001b[1;34m(*args, **kwargs)\u001b[0m\n",
      "\u001b[1;31mKeyboardInterrupt\u001b[0m: "
     ]
    }
   ],
   "source": [
    "df=open_file(str(\"./PPG_FieldStudy/S1/S1.pkl\"))\n",
    "peaks=df['rpeaks']\n",
    "first_peak_64index=int(np.round((peaks[0]/700)*64,0))\n",
    "x2=df['signal']['wrist']['ACC'][first_peak_64index//2:,0]\n",
    "x3=df['signal']['wrist']['ACC'][first_peak_64index//2:,1]\n",
    "x4=df['signal']['wrist']['ACC'][first_peak_64index//2:,2]\n",
    "acc=np.array([x2,x3,x4])\n",
    "acc=np.linalg.norm(acc,axis=0)\n",
    "ecg_cut=ecg=df['signal']['chest']['ECG'][peaks[0]:,0]\n",
    "bvp_cut=df['signal']['wrist']['BVP'][first_peak_64index:,0]\n",
    "peaks_cut=peaks-peaks[0]\n",
    "peaks_cut64=np.round((peaks_cut/700)*64,0)\n",
    "sign_peak64=np.zeros(int(peaks_cut64[-1]+1))\n",
    "fakeppg_64hz=create_fakeppg(final_template,peaks_cut64)\n"
   ]
  },
  {
   "cell_type": "code",
   "execution_count": 7,
   "metadata": {},
   "outputs": [
    {
     "ename": "NameError",
     "evalue": "name 'fakeppg_64hz' is not defined",
     "output_type": "error",
     "traceback": [
      "\u001b[1;31m---------------------------------------------------------------------------\u001b[0m",
      "\u001b[1;31mNameError\u001b[0m                                 Traceback (most recent call last)",
      "\u001b[1;32m~\\AppData\\Local\\Temp\\ipykernel_11700\\805360926.py\u001b[0m in \u001b[0;36m<module>\u001b[1;34m\u001b[0m\n\u001b[0;32m     14\u001b[0m     \u001b[0mY\u001b[0m\u001b[1;33m=\u001b[0m\u001b[0mnp\u001b[0m\u001b[1;33m.\u001b[0m\u001b[0mones\u001b[0m\u001b[1;33m(\u001b[0m\u001b[0mlen\u001b[0m\u001b[1;33m(\u001b[0m\u001b[0mrpeak_t\u001b[0m\u001b[1;33m)\u001b[0m\u001b[1;33m)\u001b[0m\u001b[1;33m\u001b[0m\u001b[1;33m\u001b[0m\u001b[0m\n\u001b[0;32m     15\u001b[0m     \u001b[0mbvp\u001b[0m\u001b[1;33m=\u001b[0m\u001b[0mbvp_cut\u001b[0m\u001b[1;33m[\u001b[0m\u001b[0moffset\u001b[0m\u001b[1;33m+\u001b[0m\u001b[0mdeb\u001b[0m\u001b[1;33m:\u001b[0m\u001b[0moffset\u001b[0m\u001b[1;33m+\u001b[0m\u001b[0mdeb\u001b[0m\u001b[1;33m+\u001b[0m\u001b[0mstep\u001b[0m\u001b[1;33m*\u001b[0m\u001b[1;36m64\u001b[0m\u001b[1;33m]\u001b[0m\u001b[1;33m\u001b[0m\u001b[1;33m\u001b[0m\u001b[0m\n\u001b[1;32m---> 16\u001b[1;33m     \u001b[0mcleanbvp\u001b[0m\u001b[1;33m=\u001b[0m\u001b[0mfakeppg_64hz\u001b[0m\u001b[1;33m[\u001b[0m\u001b[0mdeb\u001b[0m\u001b[1;33m:\u001b[0m\u001b[0mdeb\u001b[0m\u001b[1;33m+\u001b[0m\u001b[0mstep\u001b[0m\u001b[1;33m*\u001b[0m\u001b[1;36m64\u001b[0m\u001b[1;33m]\u001b[0m\u001b[1;33m\u001b[0m\u001b[1;33m\u001b[0m\u001b[0m\n\u001b[0m\u001b[0;32m     17\u001b[0m     \u001b[0mnormacc\u001b[0m\u001b[1;33m=\u001b[0m\u001b[0macc\u001b[0m\u001b[1;33m[\u001b[0m\u001b[1;33m(\u001b[0m\u001b[0moffset\u001b[0m\u001b[1;33m+\u001b[0m\u001b[0mdeb\u001b[0m\u001b[1;33m)\u001b[0m\u001b[1;33m//\u001b[0m\u001b[1;36m2\u001b[0m\u001b[1;33m:\u001b[0m\u001b[1;33m(\u001b[0m\u001b[0moffset\u001b[0m\u001b[1;33m+\u001b[0m\u001b[0mdeb\u001b[0m\u001b[1;33m+\u001b[0m\u001b[0mstep\u001b[0m\u001b[1;33m*\u001b[0m\u001b[1;36m64\u001b[0m\u001b[1;33m)\u001b[0m\u001b[1;33m//\u001b[0m\u001b[1;36m2\u001b[0m\u001b[1;33m]\u001b[0m\u001b[1;33m\u001b[0m\u001b[1;33m\u001b[0m\u001b[0m\n\u001b[0;32m     18\u001b[0m     \u001b[0mplt\u001b[0m\u001b[1;33m.\u001b[0m\u001b[0mfigure\u001b[0m\u001b[1;33m(\u001b[0m\u001b[0mfigsize\u001b[0m\u001b[1;33m=\u001b[0m\u001b[1;33m(\u001b[0m\u001b[1;36m15\u001b[0m\u001b[1;33m,\u001b[0m\u001b[1;36m7\u001b[0m\u001b[1;33m)\u001b[0m\u001b[1;33m)\u001b[0m\u001b[1;33m\u001b[0m\u001b[1;33m\u001b[0m\u001b[0m\n",
      "\u001b[1;31mNameError\u001b[0m: name 'fakeppg_64hz' is not defined"
     ]
    }
   ],
   "source": [
    "#fig, axs = plt.subplots(5,figsize=(15,15))\n",
    "for k in range(0,200,10):\n",
    "    deb=k*64\n",
    "    offset=110\n",
    "    step=5\n",
    "    start_peak=((deb)/64)*700\n",
    "    end_peak=((deb+step*64)/64)*700\n",
    "    rpeak=[]\n",
    "    for peak in peaks_cut:\n",
    "        if (start_peak<=peak) and (peak<=end_peak):\n",
    "            rpeak.append(peak)\n",
    "    rpeak_t=(np.array(rpeak)/700)-(deb/64)\n",
    "    ecg=ecg_cut[int(start_peak):int(end_peak)]\n",
    "    Y=np.ones(len(rpeak_t))\n",
    "    bvp=bvp_cut[offset+deb:offset+deb+step*64]\n",
    "    cleanbvp=fakeppg_64hz[deb:deb+step*64]\n",
    "    normacc=acc[(offset+deb)//2:(offset+deb+step*64)//2]\n",
    "    plt.figure(figsize=(15,7))\n",
    "    plt.plot(np.arange(0,len(bvp)/64,1/64),bvp/50)\n",
    "    plt.scatter(rpeak_t,Y)\n",
    "    plt.plot(np.arange(0,len(ecg)/700,1/700),ecg,alpha=0.5)\n",
    "    plt.plot(np.arange(0,len(bvp)/64,1/64),cleanbvp/50)\n",
    "    plt.plot(np.arange(0,len(normacc)/32,1/32),normacc,alpha=0.25)\n",
    "    plt.title(k)"
   ]
  },
  {
   "cell_type": "markdown",
   "metadata": {},
   "source": [
    "# Offset lists"
   ]
  },
  {
   "cell_type": "code",
   "execution_count": 12,
   "metadata": {},
   "outputs": [],
   "source": [
    "L1_ind=[60,70,190,460,705,745,765,830,870,890,985,1000,1010,1025,1175,1200,1230,1305,1455,1580,1730,1820,1850,\n",
    "    2000,2040,2070,2210,2320,2360,2370,2390,2470,2520,2600,2630,2660,2770,2910,3020,3160,3240,3340,3450,3790,\n",
    "    3970,3980,4090,4290,4420,4540,4720,4900,5050,5190,5290,5470,5530,5640,5870,6030,6240,6640,6950,6990,7010,\n",
    "    7060,7270,7320,7560,7660,7990,8160,8310,8980,9210]\n",
    "L1_off=[120,115,120,115,118,115,120,115,112,115,112,115,118,115,119,125,130,135,140,142,145,149,152,154,150,146,\n",
    "        144,142,144,146,148,152,154,152,154,156,158,165,160,164,167,170,175,180,175,170,165,162,159,155,158,157,\n",
    "        150,143,138,135,133,128,124,120,116,112,108,104,105,100,95,92,89,86,80,77,73,68,62]\n",
    "L2_ind=[30,120,730,800,910,980,1010,1120,1280,1305,1315,1335,1430,1465,1485,1500,1670,1740,1800,2260,2280,2410,2650,\n",
    "        3000,3340,3410,3760,3975,4270,4400,4480,4640,4900,5020,5190,5520,6190,6530,6570,6710,7100,7180,7330,7440,7620,\n",
    "        7760,7970,8015,8100,8190,8200]\n",
    "L2_off=[108,112,116,120,125,128,125,122,126,123,128,126,129,123,126,122,124,130,126,123,120,115,122,126,131,134,138,132,126,\n",
    "        129,136,132,127,123,119,115,110,114,111,108,106,104,102,100,95,90,85,80,78,80,76]\n",
    "L3_ind=[25,40,80,160,340,400,495,560,675,700,717,840,855,875,950,1045,1105,1250,1310,1380,1470,1580,1710,1930,\n",
    "        1965,2080,2115,2590,2710,2790,2920,3100,3290,3350,3400,3460,3600,3700,3770,3880,4140,4270,4370,4400,\n",
    "        4560,4670,5020,5120,5380,5710,5810,6000,6010,6190,6320,6420,6450,6520,6570,6650,7310,7590,7635,7680,\n",
    "        7970,8050,8710,8740]\n",
    "L3_off=[118,108,112,118,124,128,124,121,117,112,108,103,100,97,94,91,95,91,94,98,102,104,108,111,115,120,124,120,\n",
    "        124,126,128,126,129,132,134,137,140,144,148,152,156,158,160,163,165,169,167,164,161,158,154,151,148,145,141,138,134,\n",
    "        132,129,127,124,128,130,134,130,133,130,126]\n",
    "L4_ind=[130,240,540,640,680,730,820,950,1120,1250,1350,1460,1520,1620,1740,1810,1835,1850,1880,1910,2120,2150,2240,2370,2440,\n",
    "        2510,2620,2700,2810,2930,2950,3140,3190,3210,3370,3390,3500,3640,3870,4220,4300,4330,4335,4340,4430,4590,4710,4730,\n",
    "        4760,4850,4990,5030,5070,5220,5300,5400,5530,5600,5620,5930,6110,6660,6670,6780,6880,7030,7090,7120,7260,7360,7500,\n",
    "        7650,7670,7850,7910,8080,8150,8200,8310,8610,8840,8890,8940,8980,8990,9120,9140]\n",
    "L4_off=[115,120,125,122,118,112,105,102,98,94,98,101,105,102,105,108,105,108,112,109,112,115,119,123,127,123,126,123,119,122,119,115,112,115,\n",
    "        118,122,120,118,114,110,106,102,106,103,102,98,95,100,105,103,106,109,111,114,119,124,128,131,134,138,134,131,128,124,120,\n",
    "        114,118,121,124,127,131,135,139,142,144,148,152,156,160,164,160,156,154,150,154,153,149]\n",
    "L5_ind=[250,390,940,1020,1380,1500,1570,1700,1760,1860,1980,2070,2100,2300,2620,2720,2820,2840,2970,3000,3100,\n",
    "        3300,3480,3560,3640,3750,3860,4000,4070,4090,4140,4370,4420,4600,4640,4770,4860,4970,5040,5120,5300,5790,5870,\n",
    "        5950,6100,6170,6340,6430,6500,6600,6700,6880,7140,7430,7510,7830,7940,8030,8180,8480,8710,8760,8940,8980,\n",
    "        9060,9260,9280,9300]\n",
    "L5_off=[105,100,97,94,92,96,99,103,106,109,112,115,118,120,115,118,122,125,128,132,134,131,128,125,128,130,134,137,134,131,\n",
    "        128,125,123,126,129,134,131,129,125,121,118,114,117,120,123,126,130,133,137,140,144,147,151,148,153,158,154,150,146,\n",
    "        142,138,142,140,138,135,131,129,127]\n",
    "L6_ind=[60,130,260,450,510,610,738,750,930,950,980,1150,1380,1560,1800,1935,2170,2305,2430,2580,2840,2900,2950,3010,3030,3080,\n",
    "        3130,3260,3430,3720,3810,3900,4340,4380,4440,4510,4570,4660,4790,5040,5100,5210,5240]\n",
    "L6_off=[107,110,113,110,113,116,119,116,113,106,103,100,96,100,103,106,109,106,101,97,94,90,87,89,92,95,98,100,102,99,102,105,108,110,\n",
    "        113,116,119,122,119,116,113,109,107]\n",
    "L7_ind=[10,30,190,250,320,670,705,725,760,870,930,1065,1140,1250,1280,1295,1335,1370,1400,1450,1460,1530,1540,1560,1660,1690,\n",
    "        1710,1860,1890,1940,1950,2010,2140,2280,2320,2400,2470,2600,2620,2660,2690,2735,2875,2940,2990,3060,3080,3100,3240,3300,\n",
    "        3500,3580,3610,3860,3870,4000,4100,4225,4350,4460,4550,5040,5240,5330,5480,5600,5700,5750,5840,5980,6030,6170,6280,6410,\n",
    "        6670,6820,6930,7060,7100,7220,7390,7430,7730,7920,7930,7950,8020,8130,8230,8290,8490,8820,9130,9340]\n",
    "L7_off=[120,115,120,124,127,131,127,122,118,115,110,106,110,108,110,113,115,118,121,117,122,120,122,123,127,129,132,134,138,135,138,142,145,\n",
    "        141,139,137,135,132,135,138,142,145,148,152,155,157,160,164,167,164,160,163,166,170,166,163,160,157,152,156,152,156,152,148,144,140,\n",
    "        136,132,128,124,120,116,112,108,104,100,96,92,88,84,81,78,74,77,79,82,86,90,94,98,95,91,93,90]"
   ]
  },
  {
   "cell_type": "code",
   "execution_count": 13,
   "metadata": {},
   "outputs": [],
   "source": [
    "Lists_offset_tstamp=[L1_ind,L2_ind,L3_ind,L4_ind,L5_ind,L6_ind,L7_ind]\n",
    "Lists_offset_val=[L1_off,L2_off,L3_off,L4_off,L5_off,L6_off,L7_off]"
   ]
  },
  {
   "cell_type": "markdown",
   "metadata": {},
   "source": [
    "# Create DS"
   ]
  },
  {
   "cell_type": "code",
   "execution_count": 45,
   "metadata": {},
   "outputs": [],
   "source": [
    "from scipy.signal import butter, lfilter\n",
    "from scipy.signal import freqz\n",
    "from tqdm import tqdm\n",
    "\n",
    "def open_file(path):\n",
    "    df = pd.read_pickle(path)\n",
    "    return df\n",
    "\n",
    "def generate_template():\n",
    "    \"\"\" Generate the template for the fake ppg from file 1, with first bvp peak)\"\"\"\n",
    "    df=open_file(str(\"./PPG_FieldStudy/S1/S1.pkl\"))\n",
    "    offset=120\n",
    "    sync_bvp=df['signal']['wrist']['BVP'][offset:,0]\n",
    "    sync_peak=df['rpeaks']\n",
    "    sync_peak=sync_peak-sync_peak[0]\n",
    "    sync_peak64=np.round((sync_peak/700)*64,0)\n",
    "    template_0=sync_bvp[int(sync_peak64[0]):int(sync_peak64[1])]\n",
    "    template_multi=np.concatenate([template_0,template_0,template_0])[:]\n",
    "    kernel_size = 4\n",
    "    kernel = np.ones(kernel_size) / kernel_size\n",
    "    data_convolved = np.convolve(template_multi, kernel, mode='same')\n",
    "    final_template=data_convolved[112:112+86]\n",
    "    return final_template\n",
    "\n",
    "def normalization(signal):\n",
    "    \"\"\" Normalize a signal \n",
    "        y=(x-min(x))/(max(x)-min(x))\n",
    "        return : y - mean(y)    \n",
    "    \"\"\"\n",
    "    if (np.max(signal)-np.min(signal))!=0:\n",
    "        signal=(signal-np.min(signal))/(np.max(signal)-np.min(signal))\n",
    "    signal=(signal-np.mean(signal))\n",
    "    return signal\n",
    "\n",
    "def normalization_spectrum(spectrum):\n",
    "    \"\"\" Normalize a signal \n",
    "        y=(x-min(x))/(max(x)-min(x))\n",
    "        return : y - mean(y)    \n",
    "    \"\"\"\n",
    "    if (np.max(spectrum)-np.min(spectrum))!=0:\n",
    "        spectrum=(spectrum-np.min(spectrum))/(np.max(spectrum)-np.min(spectrum))\n",
    "    return spectrum\n",
    "\n",
    "def upsample_acc(signal):\n",
    "    \"\"\" Use scipy to interpolate a signal and upsample it, here double the sampling of the signal\"\"\"\n",
    "    y=signal\n",
    "    x=np.arange(0,2*len(y),2)\n",
    "    f= scipy.interpolate.interp1d(x,y,fill_value='extrapolate')\n",
    "    x_new=np.arange(0,2*len(y))\n",
    "    ynew=f(x_new)\n",
    "    #ynew=pad(ynew)\n",
    "    return(ynew)\n",
    "\n",
    "def precompute_template_64(template):\n",
    "    \"\"\" Precompute a set of template signal with variable size (more or less time) depending the inter heartbeat time\n",
    "        return a list of each signal for each inter heartbeat time\n",
    "    \"\"\"\n",
    "    L=[None]\n",
    "    print(\"computing template set... \\n\")\n",
    "    for n in tqdm(range(1,5*64)):\n",
    "        y=template\n",
    "        x=np.arange(0,len(template))\n",
    "        f= scipy.interpolate.interp1d(x,y,fill_value='extrapolate')\n",
    "        x_new=np.linspace(0,len(template),n,endpoint=False)\n",
    "        ynew=f(x_new)\n",
    "        L.append(ynew)\n",
    "    return L\n",
    "\n",
    "def create_fakeppg(template,peak64):\n",
    "    \"\"\" Generate the entire fake ppg signal from the ecg signal peaks (peak64) and from the template\"\"\"\n",
    "    rpeak_t=peak64\n",
    "    #len_true_sign=len(df['signal']['wrist']['BVP'])\n",
    "    out=np.array([])\n",
    "    L=precompute_template_64(template)\n",
    "    print(\"computing ppg... \\n\")\n",
    "    discard=0\n",
    "    for n in tqdm(range(len(rpeak_t)-1)):\n",
    "        interval=int(rpeak_t[n+1]-rpeak_t[n])\n",
    "        if interval!=0:\n",
    "            ynew=L[interval]\n",
    "            out=np.concatenate([out,ynew])\n",
    "            if interval!=len(ynew):\n",
    "                print(n)\n",
    "        else:\n",
    "            discard+=1\n",
    "    print(discard)\n",
    "    return out\n",
    "\n",
    "\n",
    "def butter_bandpass(lowcut, highcut, fs, order=5):\n",
    "    return butter(order, [lowcut, highcut], fs=fs, btype='band')\n",
    "\n",
    "def butter_bandpass_filter(data, lowcut, highcut, fs, order=5):\n",
    "    b, a = butter_bandpass(lowcut, highcut, fs, order=order)\n",
    "    y = lfilter(b, a, data)\n",
    "    return y\n",
    "    \n",
    "def gen_offsetlist(offset_tstamp,offset_value):\n",
    "    \"\"\" Create a list of synchronizing offset to use for each second of the signal\"\"\"\n",
    "    offset_list=np.zeros(offset_tstamp[-1])\n",
    "    m=0\n",
    "    for j in range(0,len(offset_tstamp)):\n",
    "        for n in range(m,offset_tstamp[j]):\n",
    "            offset_list[n]=offset_value[j]\n",
    "        m=offset_tstamp[j]\n",
    "    return offset_list\n",
    "\n",
    "\n",
    "def time_freq_spectra(signal,window_size,step):\n",
    "    \"\"\" compute the fft time frequency spectra of a signal given\n",
    "        a signal\n",
    "        a window_size (s)\n",
    "        a step (s)\n",
    "    \"\"\"\n",
    "    freq_bvp=64\n",
    "    image=[]\n",
    "    for k in range(0,len(signal)-window_size*freq_bvp,int(step*freq_bvp)):\n",
    "        frac_sign=signal[k:k+window_size*freq_bvp]\n",
    "        image.append(np.pad(frac_sign,(0,(64-window_size)*64),'constant',constant_values=(0,0))) #fft pre padding\n",
    "    image=np.array(image)\n",
    "    spectrum=np.float32(np.abs(np.fft.fft(image,axis=1)[:,:257]))\n",
    "    return normalization_spectrum(spectrum).reshape((1,-1,257))\n",
    "\n",
    "\n",
    "\n",
    "def get_data_from_file(path,offset_tstamp,offset_value,template):\n",
    "    \"\"\" Extract data from the given file (path) \n",
    "    \n",
    "    path : path of the file containing raw data\n",
    "    offset_tstamp : list containing timestamp, each timestamp is the time boundary for each offset value\n",
    "    offset_value : value to use to synchronize the fake ppg signal and the raw signal\n",
    "    template : template used to create fake_ppg    \n",
    "    \n",
    "    \"\"\"\n",
    "    List_data=[]\n",
    "    List_label=[]\n",
    "    List_hr=[]\n",
    "    List_spectrum=[]\n",
    "    List_peaks=[]\n",
    "    lowcut = 0.5  # lowcut freq for butterworth filter\n",
    "    highcut = 5   # highcut freq for butterworth filter\n",
    "\n",
    "    df=open_file(path)\n",
    "    listoffset=gen_offsetlist(offset_tstamp,offset_value) # a list of synchronizing offset to use for each second of the signal\n",
    "    peaks=df['rpeaks']\n",
    "    first_peak_64index=int(np.round((peaks[0]/700)*64,0)) # index (in 64hz sampling) of the first peak of the ecg\n",
    "\n",
    "    # 4 following signals are starting at the first ecg peak\n",
    "    acc0_cut=upsample_acc(df['signal']['wrist']['ACC'][first_peak_64index//2:,0])\n",
    "    acc1_cut=upsample_acc(df['signal']['wrist']['ACC'][first_peak_64index//2:,1])\n",
    "    acc2_cut=upsample_acc(df['signal']['wrist']['ACC'][first_peak_64index//2:,2])\n",
    "    bvp_cut=df['signal']['wrist']['BVP'][first_peak_64index:,0]\n",
    "\n",
    "    peaks_cut=peaks-peaks[0] #first peak at t=0 (700hz sampling)\n",
    "    peaks_cut64=np.round((peaks_cut/700)*64,0) #ecg peaks index (64hz sampling)\n",
    "    sign_peak64=np.zeros(int(peaks_cut64[-1]+1))\n",
    "    for peak in peaks_cut64:\n",
    "        sign_peak64[int(peak)]=1\n",
    "    #sign peak is a signal with 1 at the index of ecg peaks and 0 everywhere else\n",
    "\n",
    "    fakeppg_64hz=create_fakeppg(template,peaks_cut64)\n",
    "    \n",
    "    discard=0\n",
    "    for k in tqdm(range(0,(len(bvp_cut)//64)-12)):\n",
    "        deb=k*64\n",
    "        offset=int(listoffset[k])\n",
    "        peak_list=np.where(sign_peak64[deb:deb+5*64]==1)[0]\n",
    "        bvp_window=normalization(butter_bandpass_filter(bvp_cut[deb+offset:deb+offset+5*64], lowcut, highcut, 64, order=1))\n",
    "        acc0_window=normalization(butter_bandpass_filter(acc0_cut[deb+offset:deb+offset+5*64], lowcut, highcut, 64, order=1))\n",
    "        acc1_window=normalization(butter_bandpass_filter(acc1_cut[deb+offset:deb+offset+5*64], lowcut, highcut, 64, order=1))\n",
    "        acc2_window=normalization(butter_bandpass_filter(acc2_cut[deb+offset:deb+offset+5*64], lowcut, highcut, 64, order=1))\n",
    "        spec_bvp,spec_acc0,spec_acc1,spec_acc2=time_freq_spectra(bvp_window,3,0.5),time_freq_spectra(acc0_window,3,0.5),time_freq_spectra(acc1_window,3,0.5),time_freq_spectra(acc2_window,3,0.5)\n",
    "        clean_ppg=normalization(butter_bandpass_filter(fakeppg_64hz[deb:deb+5*64], lowcut, highcut, 64, order=1))\n",
    "        if len(peak_list)>=2:\n",
    "            interbeat_mean=np.mean([peak_list[n+1]-peak_list[n] for n in range(0,len(peak_list)-1)])\n",
    "            hr=60*64/interbeat_mean\n",
    "            List_data.append(np.array([bvp_window,acc0_window,acc1_window,acc2_window]))\n",
    "            List_label.append(clean_ppg)\n",
    "            List_hr.append(hr)\n",
    "            List_spectrum.append(np.concatenate((spec_bvp,spec_acc0,spec_acc1,spec_acc2),axis=0))\n",
    "            #List_peaks.append(peak_list)\n",
    "        else :\n",
    "            discard+=1\n",
    "    print(discard)\n",
    "    dic={}\n",
    "    dic['label']=np.array(List_label)\n",
    "    dic['data']=np.array(List_data)\n",
    "    dic['hr']=np.array(List_hr)\n",
    "    dic['spectrum']=np.array(List_spectrum)\n",
    "    #dic['peaks']=np.array(List_peaks)\n",
    "    return dic\n",
    "\n",
    "def create_ds():\n",
    "    \"\"\" Create an h5 file containing data of extracted files\"\"\"\n",
    "    template=generate_template()\n",
    "    h5f = h5py.File('data_PPG_Dalia_denoise_ppg_filtered_and_spectrum_sync.h5', 'w')\n",
    "    for i in range(1,8):\n",
    "        try :\n",
    "            path=\"./PPG_FieldStudy/S{}/S{}.pkl\".format(i,i)\n",
    "            print(\"S{}\".format(i))\n",
    "            dic=get_data_from_file(path,Lists_offset_tstamp[i-1],Lists_offset_val[i-1],template)\n",
    "            name=\"S{}\".format(i)\n",
    "            h5f.create_dataset(\"data_{}\".format(name), data=dic['data'])\n",
    "            h5f.create_dataset(\"label_{}\".format(name), data=dic['label'])\n",
    "            h5f.create_dataset(\"hr_{}\".format(name), data=dic['hr'])\n",
    "            h5f.create_dataset(\"spectrum_{}\".format(name), data=dic['spectrum'])\n",
    "            #h5f.create_dataset(\"peaks_{}\".format(name), data=dic['peaks'])\n",
    "            print(\"S{} has been processed\".format(i))\n",
    "        except Exception as e:\n",
    "            print(e)\n",
    "            h5f.close()\n",
    "    h5f.close()"
   ]
  },
  {
   "cell_type": "code",
   "execution_count": 43,
   "metadata": {},
   "outputs": [
    {
     "data": {
      "text/plain": [
       "'c:\\\\Users\\\\Edouard\\\\Desktop\\\\Research Project\\\\PPG_Dalia'"
      ]
     },
     "execution_count": 43,
     "metadata": {},
     "output_type": "execute_result"
    }
   ],
   "source": [
    "import os\n",
    "os.getcwd()"
   ]
  },
  {
   "cell_type": "code",
   "execution_count": 173,
   "metadata": {},
   "outputs": [],
   "source": [
    "import gc\n",
    "for obj in gc.get_objects():   # Browse through ALL objects\n",
    "    if isinstance(obj, h5py.File):   # Just HDF5 files\n",
    "        try:\n",
    "            obj.close()\n",
    "        except:\n",
    "            pass # Was already closed\n"
   ]
  },
  {
   "cell_type": "code",
   "execution_count": 46,
   "metadata": {},
   "outputs": [
    {
     "name": "stdout",
     "output_type": "stream",
     "text": [
      "S1\n",
      "computing template set... \n",
      "\n"
     ]
    },
    {
     "name": "stderr",
     "output_type": "stream",
     "text": [
      "100%|██████████| 319/319 [00:00<00:00, 6379.49it/s]\n"
     ]
    },
    {
     "name": "stdout",
     "output_type": "stream",
     "text": [
      "computing ppg... \n",
      "\n"
     ]
    },
    {
     "name": "stderr",
     "output_type": "stream",
     "text": [
      "100%|██████████| 11430/11430 [00:08<00:00, 1335.22it/s]\n"
     ]
    },
    {
     "name": "stdout",
     "output_type": "stream",
     "text": [
      "0\n"
     ]
    },
    {
     "name": "stderr",
     "output_type": "stream",
     "text": [
      "100%|██████████| 9199/9199 [00:33<00:00, 277.99it/s]\n"
     ]
    },
    {
     "name": "stdout",
     "output_type": "stream",
     "text": [
      "0\n",
      "S1 has been processed\n",
      "S2\n",
      "computing template set... \n",
      "\n"
     ]
    },
    {
     "name": "stderr",
     "output_type": "stream",
     "text": [
      "100%|██████████| 319/319 [00:00<00:00, 7088.31it/s]\n"
     ]
    },
    {
     "name": "stdout",
     "output_type": "stream",
     "text": [
      "computing ppg... \n",
      "\n"
     ]
    },
    {
     "name": "stderr",
     "output_type": "stream",
     "text": [
      "100%|██████████| 11246/11246 [00:06<00:00, 1695.59it/s]\n"
     ]
    },
    {
     "name": "stdout",
     "output_type": "stream",
     "text": [
      "0\n"
     ]
    },
    {
     "name": "stderr",
     "output_type": "stream",
     "text": [
      "100%|██████████| 8192/8192 [00:26<00:00, 314.12it/s]\n"
     ]
    },
    {
     "name": "stdout",
     "output_type": "stream",
     "text": [
      "0\n",
      "S2 has been processed\n",
      "S3\n",
      "computing template set... \n",
      "\n"
     ]
    },
    {
     "name": "stderr",
     "output_type": "stream",
     "text": [
      "100%|██████████| 319/319 [00:00<00:00, 5406.10it/s]\n"
     ]
    },
    {
     "name": "stdout",
     "output_type": "stream",
     "text": [
      "computing ppg... \n",
      "\n"
     ]
    },
    {
     "name": "stderr",
     "output_type": "stream",
     "text": [
      "100%|██████████| 12927/12927 [00:08<00:00, 1533.37it/s]\n"
     ]
    },
    {
     "name": "stdout",
     "output_type": "stream",
     "text": [
      "0\n"
     ]
    },
    {
     "name": "stderr",
     "output_type": "stream",
     "text": [
      "100%|██████████| 8728/8728 [00:27<00:00, 314.79it/s]\n"
     ]
    },
    {
     "name": "stdout",
     "output_type": "stream",
     "text": [
      "0\n",
      "S3 has been processed\n",
      "S4\n",
      "computing template set... \n",
      "\n"
     ]
    },
    {
     "name": "stderr",
     "output_type": "stream",
     "text": [
      "100%|██████████| 319/319 [00:00<00:00, 7418.16it/s]\n"
     ]
    },
    {
     "name": "stdout",
     "output_type": "stream",
     "text": [
      "computing ppg... \n",
      "\n"
     ]
    },
    {
     "name": "stderr",
     "output_type": "stream",
     "text": [
      "100%|██████████| 13363/13363 [00:08<00:00, 1511.54it/s]\n"
     ]
    },
    {
     "name": "stdout",
     "output_type": "stream",
     "text": [
      "0\n"
     ]
    },
    {
     "name": "stderr",
     "output_type": "stream",
     "text": [
      "100%|██████████| 9137/9137 [00:28<00:00, 315.62it/s]\n"
     ]
    },
    {
     "name": "stdout",
     "output_type": "stream",
     "text": [
      "0\n",
      "S4 has been processed\n",
      "S5\n",
      "computing template set... \n",
      "\n"
     ]
    },
    {
     "name": "stderr",
     "output_type": "stream",
     "text": [
      "100%|██████████| 319/319 [00:00<00:00, 5596.08it/s]\n"
     ]
    },
    {
     "name": "stdout",
     "output_type": "stream",
     "text": [
      "computing ppg... \n",
      "\n"
     ]
    },
    {
     "name": "stderr",
     "output_type": "stream",
     "text": [
      "100%|██████████| 19505/19505 [00:13<00:00, 1496.59it/s]\n"
     ]
    },
    {
     "name": "stdout",
     "output_type": "stream",
     "text": [
      "0\n"
     ]
    },
    {
     "name": "stderr",
     "output_type": "stream",
     "text": [
      "100%|██████████| 9292/9292 [00:29<00:00, 314.46it/s]\n"
     ]
    },
    {
     "name": "stdout",
     "output_type": "stream",
     "text": [
      "0\n",
      "S5 has been processed\n",
      "S6\n",
      "computing template set... \n",
      "\n"
     ]
    },
    {
     "name": "stderr",
     "output_type": "stream",
     "text": [
      "100%|██████████| 319/319 [00:00<00:00, 7418.03it/s]\n"
     ]
    },
    {
     "name": "stdout",
     "output_type": "stream",
     "text": [
      "computing ppg... \n",
      "\n"
     ]
    },
    {
     "name": "stderr",
     "output_type": "stream",
     "text": [
      "100%|██████████| 10438/10438 [00:03<00:00, 3160.86it/s]\n"
     ]
    },
    {
     "name": "stdout",
     "output_type": "stream",
     "text": [
      "4\n"
     ]
    },
    {
     "name": "stderr",
     "output_type": "stream",
     "text": [
      "100%|██████████| 5237/5237 [00:16<00:00, 312.82it/s]\n"
     ]
    },
    {
     "name": "stdout",
     "output_type": "stream",
     "text": [
      "0\n",
      "S6 has been processed\n",
      "S7\n",
      "computing template set... \n",
      "\n"
     ]
    },
    {
     "name": "stderr",
     "output_type": "stream",
     "text": [
      "100%|██████████| 319/319 [00:00<00:00, 5906.66it/s]\n"
     ]
    },
    {
     "name": "stdout",
     "output_type": "stream",
     "text": [
      "computing ppg... \n",
      "\n"
     ]
    },
    {
     "name": "stderr",
     "output_type": "stream",
     "text": [
      "100%|██████████| 13414/13414 [00:08<00:00, 1503.02it/s]\n"
     ]
    },
    {
     "name": "stdout",
     "output_type": "stream",
     "text": [
      "0\n"
     ]
    },
    {
     "name": "stderr",
     "output_type": "stream",
     "text": [
      "100%|██████████| 9330/9330 [00:29<00:00, 315.29it/s]\n"
     ]
    },
    {
     "name": "stdout",
     "output_type": "stream",
     "text": [
      "0\n",
      "S7 has been processed\n"
     ]
    }
   ],
   "source": [
    "create_ds()"
   ]
  },
  {
   "cell_type": "code",
   "execution_count": 174,
   "metadata": {},
   "outputs": [
    {
     "name": "stdout",
     "output_type": "stream",
     "text": [
      "S3\n",
      "computing template set... \n",
      "\n"
     ]
    },
    {
     "name": "stderr",
     "output_type": "stream",
     "text": [
      "100%|██████████| 319/319 [00:00<00:00, 7779.97it/s]\n"
     ]
    },
    {
     "name": "stdout",
     "output_type": "stream",
     "text": [
      "computing ppg... \n",
      "\n"
     ]
    },
    {
     "name": "stderr",
     "output_type": "stream",
     "text": [
      "100%|██████████| 12927/12927 [00:09<00:00, 1368.10it/s]\n"
     ]
    },
    {
     "name": "stdout",
     "output_type": "stream",
     "text": [
      "0\n",
      "8728\n",
      "559393\n"
     ]
    },
    {
     "name": "stderr",
     "output_type": "stream",
     "text": [
      "100%|██████████| 8728/8728 [00:15<00:00, 577.62it/s]\n"
     ]
    },
    {
     "name": "stdout",
     "output_type": "stream",
     "text": [
      "0\n"
     ]
    }
   ],
   "source": [
    "i=1\n",
    "path=\"./PPG_FieldStudy/S{}/S{}.pkl\".format(i,i)\n",
    "template=generate_template()\n",
    "dic=get_data_from_file(path,Lists_offset_tstamp[i-1],Lists_offset_val[i-1],template)"
   ]
  },
  {
   "cell_type": "code",
   "execution_count": 158,
   "metadata": {},
   "outputs": [
    {
     "data": {
      "text/plain": [
       "array([108., 108., 108., ...,  76.,  76.,  76.])"
      ]
     },
     "execution_count": 158,
     "metadata": {},
     "output_type": "execute_result"
    }
   ],
   "source": [
    "gen_offsetlist(L2_ind,L2_off)"
   ]
  },
  {
   "cell_type": "code",
   "execution_count": 139,
   "metadata": {},
   "outputs": [
    {
     "data": {
      "text/plain": [
       "Text(0.5, 1.0, '4415')"
      ]
     },
     "execution_count": 139,
     "metadata": {},
     "output_type": "execute_result"
    },
    {
     "data": {
      "image/png": "[encoded data removed]",
      "text/plain": [
       "<Figure size 1080x504 with 1 Axes>"
      ]
     },
     "metadata": {
      "needs_background": "light"
     },
     "output_type": "display_data"
    }
   ],
   "source": [
    "k = np.random.randint(0,9204)\n",
    "bvp=dic['data'][k][0]\n",
    "ppgclean=dic['label'][k]\n",
    "peaks=dic['peaks'][k]\n",
    "Y=np.ones(len(peaks))\n",
    "plt.figure(figsize=(15,7))\n",
    "# plt.scatter(peaks/64,Y)\n",
    "plt.plot(np.arange(0,len(bvp)/64,1/64),bvp)\n",
    "plt.plot(np.arange(0,len(bvp)/64,1/64),ppgclean)\n",
    "plt.title(k)"
   ]
  },
  {
   "cell_type": "code",
   "execution_count": 86,
   "metadata": {},
   "outputs": [
    {
     "data": {
      "text/plain": [
       "Text(0.5, 1.0, '640')"
      ]
     },
     "execution_count": 86,
     "metadata": {},
     "output_type": "execute_result"
    },
    {
     "data": {
      "image/png": "[encoded data removed]",
      "text/plain": [
       "<Figure size 1080x504 with 1 Axes>"
      ]
     },
     "metadata": {
      "needs_background": "light"
     },
     "output_type": "display_data"
    }
   ],
   "source": [
    "deb=k*64\n",
    "offset=118\n",
    "step=5\n",
    "start_peak=((deb)/64)*700\n",
    "end_peak=((deb+step*64)/64)*700\n",
    "rpeak=[]\n",
    "for peak in peaks_cut:\n",
    "    if (start_peak<=peak) and (peak<=end_peak):\n",
    "        rpeak.append(peak)\n",
    "rpeak_t=(np.array(rpeak)/700)-(deb/64)\n",
    "ecg=ecg_cut[int(start_peak):int(end_peak)]\n",
    "Y=np.ones(len(rpeak_t))\n",
    "bvp=bvp_cut[offset+deb:offset+deb+step*64]\n",
    "cleanbvp=fakeppg_64hz[deb:deb+step*64]\n",
    "normacc=acc[(offset+deb)//2:(offset+deb+step*64)//2]\n",
    "plt.figure(figsize=(15,7))\n",
    "plt.plot(np.arange(0,len(bvp)/64,1/64),bvp/50)\n",
    "plt.scatter(rpeak_t,Y)\n",
    "plt.plot(np.arange(0,len(ecg)/700,1/700),ecg,alpha=0.5)\n",
    "plt.plot(np.arange(0,len(bvp)/64,1/64),cleanbvp/50)\n",
    "plt.plot(np.arange(0,len(normacc)/32,1/32),normacc,alpha=0.25)\n",
    "plt.title(k)"
   ]
  }
 ],
 "metadata": {
  "kernelspec": {
   "display_name": "Python 3.9.7 ('venv': venv)",
   "language": "python",
   "name": "python3"
  },
  "language_info": {
   "codemirror_mode": {
    "name": "ipython",
    "version": 3
   },
   "file_extension": ".py",
   "mimetype": "text/x-python",
   "name": "python",
   "nbconvert_exporter": "python",
   "pygments_lexer": "ipython3",
   "version": "3.9.7"
  },
  "orig_nbformat": 4,
  "vscode": {
   "interpreter": {
    "hash": "b57312d11beb16f41471443c1511f1ce5acdfda8670f4b8103c754f2bf25a58c"
   }
  }
 },
 "nbformat": 4,
 "nbformat_minor": 2
}
